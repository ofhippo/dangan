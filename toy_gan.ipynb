{
 "cells": [
  {
   "cell_type": "code",
   "execution_count": 1,
   "metadata": {
    "collapsed": true
   },
   "outputs": [],
   "source": [
    "import tensorflow as tf\n",
    "tf.reset_default_graph()"
   ]
  },
  {
   "cell_type": "code",
   "execution_count": 2,
   "metadata": {
    "collapsed": false
   },
   "outputs": [
    {
     "name": "stdout",
     "output_type": "stream",
     "text": [
      "Extracting MNIST_data/train-images-idx3-ubyte.gz\n",
      "Extracting MNIST_data/train-labels-idx1-ubyte.gz\n",
      "Extracting MNIST_data/t10k-images-idx3-ubyte.gz\n",
      "Extracting MNIST_data/t10k-labels-idx1-ubyte.gz\n"
     ]
    }
   ],
   "source": [
    "from tensorflow.examples.tutorials.mnist import input_data\n",
    "mnist = input_data.read_data_sets(\"MNIST_data/\")"
   ]
  },
  {
   "cell_type": "code",
   "execution_count": 3,
   "metadata": {
    "collapsed": true
   },
   "outputs": [],
   "source": [
    "import matplotlib.pyplot as plt"
   ]
  },
  {
   "cell_type": "code",
   "execution_count": 4,
   "metadata": {
    "collapsed": false
   },
   "outputs": [
    {
     "name": "stdout",
     "output_type": "stream",
     "text": [
      "5\n"
     ]
    },
    {
     "data": {
      "text/plain": [
       "<matplotlib.image.AxesImage at 0x122e7da50>"
      ]
     },
     "execution_count": 4,
     "metadata": {},
     "output_type": "execute_result"
    },
    {
     "data": {
      "image/png": "[encoded data removed]",
      "text/plain": [
       "<matplotlib.figure.Figure at 0x122d568d0>"
      ]
     },
     "metadata": {},
     "output_type": "display_data"
    }
   ],
   "source": [
    "image, label = mnist.train.next_batch(1)\n",
    "%matplotlib inline\n",
    "print(label[0])\n",
    "plt.imshow(image[0].reshape(28,28), cmap='Greys')"
   ]
  },
  {
   "cell_type": "code",
   "execution_count": 5,
   "metadata": {
    "collapsed": false
   },
   "outputs": [],
   "source": [
    "def discriminator(x, reuse=False):\n",
    "    with tf.variable_scope(\"D\"):\n",
    "        if (reuse):\n",
    "            tf.get_variable_scope().reuse_variables()\n",
    "        w1 = tf.get_variable(\"w1\", [5, 5, 1, 32], initializer = tf.truncated_normal_initializer(stddev=0.02))\n",
    "        b1 = tf.get_variable(\"b1\", [32], initializer = tf.truncated_normal_initializer(stddev=0.02))\n",
    "        h1 = tf.nn.relu(tf.nn.conv2d(x, w1, [1, 2, 2, 1], \"SAME\") + b1)\n",
    "        \n",
    "        w2 = tf.get_variable(\"w2\", [5, 5, 32, 64], initializer = tf.truncated_normal_initializer(stddev=0.02))\n",
    "        b2 = tf.get_variable(\"b2\", [64], initializer = tf.truncated_normal_initializer(stddev=0.02))\n",
    "        h2 = tf.nn.relu(tf.nn.conv2d(h1, w2, [1, 2, 2, 1], \"SAME\") + b2)\n",
    "        \n",
    "        w3 = tf.get_variable(\"w3\", [5, 5, 64, 128], initializer = tf.truncated_normal_initializer(stddev=0.02))\n",
    "        b3 = tf.get_variable(\"b3\", [128], initializer = tf.truncated_normal_initializer(stddev=0.02))\n",
    "        h3 = tf.nn.relu(tf.nn.conv2d(h2, w3, [1, 2, 2, 1], \"SAME\") + b3)\n",
    "                \n",
    "        w4 = tf.get_variable(\"w4\", [5, 5, 128, 256], initializer = tf.truncated_normal_initializer(stddev=0.02))\n",
    "        b4 = tf.get_variable(\"b4\", [256], initializer = tf.truncated_normal_initializer(stddev=0.02))\n",
    "        h4 = tf.nn.relu(tf.nn.conv2d(h3, w4, [1, 2, 2, 1], \"SAME\") + b4)\n",
    "        h4 = tf.reshape(h4, [-1, 256])\n",
    "        \n",
    "        w5 = tf.get_variable(\"w5\", [256, 1], initializer = tf.truncated_normal_initializer(stddev=0.02))\n",
    "        b5 = tf.get_variable(\"b5\", [1], initializer = tf.truncated_normal_initializer(stddev=0.02))\n",
    "        return tf.matmul(h4, w5) + b5"
   ]
  },
  {
   "cell_type": "code",
   "execution_count": 6,
   "metadata": {
    "collapsed": true
   },
   "outputs": [],
   "source": [
    "def generator(z, zdim, batch_size, reuse=False):\n",
    "    with tf.variable_scope(\"G\"):\n",
    "        if (reuse):\n",
    "            tf.get_variable_scope().reuse_variables()\n",
    "\n",
    "        w1 = tf.get_variable(\"w1\", [zdim, 28 * 28 * 4], initializer = tf.truncated_normal_initializer(stddev=0.02))\n",
    "        b1 = tf.get_variable(\"b1\", [28 * 28 * 4], initializer = tf.truncated_normal_initializer(stddev=0.02))\n",
    "        h1 = tf.nn.relu(tf.matmul(z, w1) + b1)\n",
    "        h1 = tf.reshape(h1, [batch_size, 28 * 2, 28 * 2, 1])\n",
    "\n",
    "        w2 = tf.get_variable(\"w2\", [5, 5, 1, zdim/2], initializer = tf.truncated_normal_initializer(stddev=0.02))\n",
    "        b2 = tf.get_variable(\"b2\", [zdim/2], initializer = tf.truncated_normal_initializer(stddev=0.02))\n",
    "        bn2 = tf.nn.conv2d(h1, w2, [1, 2, 2, 1], \"SAME\") + b2\n",
    "        h2 = tf.nn.relu(bn2)\n",
    "        h2 = tf.image.resize_images(h2, [28*2, 28*2])\n",
    "        \n",
    "        \n",
    "        w3 = tf.get_variable(\"w3\", [5, 5, zdim/2, zdim/4], initializer = tf.truncated_normal_initializer(stddev=0.02))\n",
    "        b3 = tf.get_variable(\"b3\", [zdim/4], initializer = tf.truncated_normal_initializer(stddev=0.02))\n",
    "        bn3 = tf.nn.conv2d(h2, w3, [1, 2, 2, 1], \"SAME\") + b3\n",
    "        h3 = tf.nn.relu(bn3)\n",
    "        h3 = tf.image.resize_images(h3, [28*2, 28*2])\n",
    "\n",
    "        w4 = tf.get_variable(\"w4\", [1, 1, zdim/4, 1], initializer = tf.truncated_normal_initializer(stddev=0.02))\n",
    "        b4 = tf.get_variable(\"b4\", [1], initializer = tf.truncated_normal_initializer(stddev=0.02))\n",
    "        h4 = tf.nn.conv2d(h3, w4, [1, 2, 2, 1], \"SAME\") + b4\n",
    "        return tf.sigmoid(h4)\n"
   ]
  },
  {
   "cell_type": "code",
   "execution_count": 7,
   "metadata": {
    "collapsed": true
   },
   "outputs": [],
   "source": [
    "x_placeholder = tf.placeholder(tf.float32, [None, 28, 28, 1], name=\"x\")\n",
    "z_placeholder = tf.placeholder(tf.float32, [None, None], name=\"z\")"
   ]
  },
  {
   "cell_type": "code",
   "execution_count": 8,
   "metadata": {
    "collapsed": false
   },
   "outputs": [],
   "source": [
    "session = tf.Session()\n",
    "Dx = discriminator(x_placeholder)\n",
    "Gz = generator(z_placeholder, 100, 100, False)\n",
    "Dg = discriminator(Gz, True)"
   ]
  },
  {
   "cell_type": "code",
   "execution_count": 9,
   "metadata": {
    "collapsed": true
   },
   "outputs": [],
   "source": [
    "d_cost_real = tf.reduce_mean(tf.nn.sigmoid_cross_entropy_with_logits(logits=Dx, labels=tf.ones_like(Dx)))\n",
    "d_cost_fake = tf.reduce_mean(tf.nn.sigmoid_cross_entropy_with_logits(logits=Dg, labels=tf.zeros_like(Dg)))\n",
    "g_cost = tf.reduce_mean(tf.nn.sigmoid_cross_entropy_with_logits(logits=Dg, labels=tf.ones_like(Dg)))"
   ]
  },
  {
   "cell_type": "code",
   "execution_count": 10,
   "metadata": {
    "collapsed": false
   },
   "outputs": [],
   "source": [
    "tvars = tf.trainable_variables()\n",
    "d_vars = [var for var in tvars if 'D/' in var.name]\n",
    "g_vars = [var for var in tvars if 'G/' in var.name]"
   ]
  },
  {
   "cell_type": "code",
   "execution_count": null,
   "metadata": {
    "collapsed": false
   },
   "outputs": [],
   "source": [
    "optimizer_d_real = tf.train.AdamOptimizer(learning_rate=0.001).minimize(d_cost_real, var_list=d_vars)\n",
    "optimizer_d_fake = tf.train.AdamOptimizer(learning_rate=0.001).minimize(d_cost_fake, var_list=d_vars)\n",
    "optimizer_g = tf.train.AdamOptimizer(learning_rate=0.001).minimize(g_cost, var_list=g_vars)"
   ]
  },
  {
   "cell_type": "code",
   "execution_count": null,
   "metadata": {
    "collapsed": false
   },
   "outputs": [
    {
     "name": "stdout",
     "output_type": "stream",
     "text": [
      "0\n",
      "d_loss_real:\n",
      "0.701517\n",
      "d_loss_fake:\n",
      "0.703817\n"
     ]
    },
    {
     "data": {
      "image/png": "[encoded data removed]",
      "text/plain": [
       "<matplotlib.figure.Figure at 0x122e2e9d0>"
      ]
     },
     "metadata": {},
     "output_type": "display_data"
    },
    {
     "name": "stdout",
     "output_type": "stream",
     "text": [
      "20\n",
      "d_loss_real:\n",
      "0.633668\n",
      "d_loss_fake:\n",
      "0.736021\n",
      "40\n",
      "d_loss_real:\n",
      "0.352832\n",
      "d_loss_fake:\n",
      "1.41746\n",
      "60\n",
      "d_loss_real:\n",
      "0.294403\n",
      "d_loss_fake:\n",
      "2.1616\n",
      "80\n",
      "d_loss_real:\n",
      "0.529152\n",
      "d_loss_fake:\n",
      "1.19412\n",
      "100\n",
      "d_loss_real:\n",
      "0.0316458\n",
      "d_loss_fake:\n",
      "0.255558\n"
     ]
    },
    {
     "data": {
      "image/png": "[encoded data removed]",
      "text/plain": [
       "<matplotlib.figure.Figure at 0x122f16bd0>"
      ]
     },
     "metadata": {},
     "output_type": "display_data"
    },
    {
     "name": "stdout",
     "output_type": "stream",
     "text": [
      "120\n",
      "d_loss_real:\n",
      "0.365186\n",
      "d_loss_fake:\n",
      "4.09053\n",
      "140\n",
      "d_loss_real:\n",
      "0.0629749\n",
      "d_loss_fake:\n",
      "0.856923\n",
      "160\n",
      "d_loss_real:\n",
      "0.0495427\n",
      "d_loss_fake:\n",
      "0.855158\n",
      "180\n",
      "d_loss_real:\n",
      "0.00294395\n",
      "d_loss_fake:\n",
      "0.0940941\n",
      "200\n",
      "d_loss_real:\n",
      "0.0015461\n",
      "d_loss_fake:\n",
      "0.0191108\n"
     ]
    },
    {
     "data": {
      "image/png": "[encoded data removed]",
      "text/plain": [
       "<matplotlib.figure.Figure at 0x123885250>"
      ]
     },
     "metadata": {},
     "output_type": "display_data"
    },
    {
     "name": "stdout",
     "output_type": "stream",
     "text": [
      "220\n",
      "d_loss_real:\n",
      "0.0124927\n",
      "d_loss_fake:\n",
      "0.460762\n",
      "240\n",
      "d_loss_real:\n",
      "0.0355032\n",
      "d_loss_fake:\n",
      "1.19721\n",
      "260\n",
      "d_loss_real:\n",
      "0.00487332\n",
      "d_loss_fake:\n",
      "0.0398066\n",
      "280\n",
      "d_loss_real:\n",
      "0.0121097\n",
      "d_loss_fake:\n",
      "0.911669\n",
      "300\n",
      "d_loss_real:\n",
      "1.15797\n",
      "d_loss_fake:\n",
      "12.5209\n"
     ]
    },
    {
     "data": {
      "image/png": "[encoded data removed]",
      "text/plain": [
       "<matplotlib.figure.Figure at 0x122f16c10>"
      ]
     },
     "metadata": {},
     "output_type": "display_data"
    },
    {
     "name": "stdout",
     "output_type": "stream",
     "text": [
      "320\n",
      "d_loss_real:\n",
      "1.70293\n",
      "d_loss_fake:\n",
      "1.06634\n",
      "340\n",
      "d_loss_real:\n",
      "1.72651\n",
      "d_loss_fake:\n",
      "7.27165\n",
      "360\n",
      "d_loss_real:\n",
      "0.000575322\n",
      "d_loss_fake:\n",
      "0.131852\n",
      "380\n",
      "d_loss_real:\n",
      "14.8317\n",
      "d_loss_fake:\n",
      "10.4393\n",
      "400\n",
      "d_loss_real:\n",
      "1.22527\n",
      "d_loss_fake:\n",
      "10.5041\n"
     ]
    },
    {
     "data": {
      "image/png": "[encoded data removed]",
      "text/plain": [
       "<matplotlib.figure.Figure at 0x121527110>"
      ]
     },
     "metadata": {},
     "output_type": "display_data"
    },
    {
     "name": "stdout",
     "output_type": "stream",
     "text": [
      "420\n",
      "d_loss_real:\n",
      "0.339749\n",
      "d_loss_fake:\n",
      "2.25886\n",
      "440\n",
      "d_loss_real:\n",
      "8.7261\n",
      "d_loss_fake:\n",
      "12.9731\n",
      "460\n",
      "d_loss_real:\n",
      "0.0717572\n",
      "d_loss_fake:\n",
      "4.47015\n",
      "480\n",
      "d_loss_real:\n",
      "12.68\n",
      "d_loss_fake:\n",
      "18.0715\n",
      "500\n",
      "d_loss_real:\n",
      "9.2421\n",
      "d_loss_fake:\n",
      "6.39056\n"
     ]
    },
    {
     "data": {
      "image/png": "[encoded data removed]",
      "text/plain": [
       "<matplotlib.figure.Figure at 0x121b09e10>"
      ]
     },
     "metadata": {},
     "output_type": "display_data"
    },
    {
     "name": "stdout",
     "output_type": "stream",
     "text": [
      "520\n",
      "d_loss_real:\n",
      "0.68504\n",
      "d_loss_fake:\n",
      "1.81111\n",
      "540\n",
      "d_loss_real:\n",
      "17.9405\n",
      "d_loss_fake:\n",
      "4.35729\n",
      "560\n",
      "d_loss_real:\n",
      "9.9873\n",
      "d_loss_fake:\n",
      "5.03752\n",
      "580\n",
      "d_loss_real:\n",
      "2.39712\n",
      "d_loss_fake:\n",
      "6.98997\n"
     ]
    }
   ],
   "source": [
    "import numpy as np\n",
    "import datetime\n",
    "session.run(tf.global_variables_initializer())\n",
    "\n",
    "batch_size = 100\n",
    "z_dimensions = 100\n",
    "for i in range(10000):\n",
    "    real_image_batch, _ = mnist.train.next_batch(batch_size)\n",
    "    real_image_batch = real_image_batch.reshape([-1, 28, 28, 1])\n",
    "    z_batch = np.random.normal(0, 1, size=[batch_size, z_dimensions])\n",
    "    _, __, d_loss_real, d_loss_fake = session.run([optimizer_d_real, optimizer_d_fake, d_cost_real, d_cost_fake],\n",
    "                                           {x_placeholder: real_image_batch, z_placeholder:z_batch})\n",
    "    \n",
    "    _ = session.run([optimizer_g], feed_dict={z_placeholder:z_batch})\n",
    "\n",
    "    if i % 20 == 0:\n",
    "        print i\n",
    "        print \"d_loss_real:\"\n",
    "        print d_loss_real\n",
    "        print \"d_loss_fake:\"\n",
    "        print d_loss_fake\n",
    "    if i % 100 == 0:\n",
    "        z_batch = np.random.normal(0, 1, size=[1, z_dimensions])\n",
    "        generated_images = generator(z_placeholder, z_dimensions, 1, True)\n",
    "        images = session.run(generated_images, {z_placeholder: z_batch})\n",
    "        plt.imshow(images[0].reshape([28, 28]), cmap='Greys')\n",
    "        plt.show()"
   ]
  },
  {
   "cell_type": "code",
   "execution_count": null,
   "metadata": {
    "collapsed": false
   },
   "outputs": [],
   "source": []
  },
  {
   "cell_type": "code",
   "execution_count": null,
   "metadata": {
    "collapsed": true
   },
   "outputs": [],
   "source": []
  }
 ],
 "metadata": {
  "anaconda-cloud": {},
  "kernelspec": {
   "display_name": "Python [default]",
   "language": "python",
   "name": "python2"
  },
  "language_info": {
   "codemirror_mode": {
    "name": "ipython",
    "version": 2
   },
   "file_extension": ".py",
   "mimetype": "text/x-python",
   "name": "python",
   "nbconvert_exporter": "python",
   "pygments_lexer": "ipython2",
   "version": "2.7.13"
  }
 },
 "nbformat": 4,
 "nbformat_minor": 2
}
