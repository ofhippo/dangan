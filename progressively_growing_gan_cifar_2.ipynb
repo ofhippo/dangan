{
 "cells": [
  {
   "cell_type": "code",
   "execution_count": 1,
   "metadata": {
    "collapsed": true
   },
   "outputs": [],
   "source": [
    "def unpickle(file):\n",
    "    import cPickle\n",
    "    with open(file, 'rb') as fo:\n",
    "        dict = cPickle.load(fo)\n",
    "    return dict"
   ]
  },
  {
   "cell_type": "code",
   "execution_count": 2,
   "metadata": {
    "collapsed": true
   },
   "outputs": [],
   "source": [
    "batch_1 = unpickle('cifar-10-batches-py/data_batch_1')"
   ]
  },
  {
   "cell_type": "code",
   "execution_count": 3,
   "metadata": {
    "collapsed": false
   },
   "outputs": [
    {
     "data": {
      "text/plain": [
       "(10000, 3072)"
      ]
     },
     "execution_count": 3,
     "metadata": {},
     "output_type": "execute_result"
    }
   ],
   "source": [
    "X_train = batch_1['data']\n",
    "X_train.shape"
   ]
  },
  {
   "cell_type": "code",
   "execution_count": 4,
   "metadata": {
    "collapsed": false
   },
   "outputs": [
    {
     "data": {
      "text/plain": [
       "10000"
      ]
     },
     "execution_count": 4,
     "metadata": {},
     "output_type": "execute_result"
    }
   ],
   "source": [
    "Y_train = batch_1['labels']\n",
    "len(Y_train)"
   ]
  },
  {
   "cell_type": "code",
   "execution_count": 5,
   "metadata": {
    "collapsed": false
   },
   "outputs": [
    {
     "data": {
      "text/plain": [
       "<matplotlib.image.AxesImage at 0x117f04dd0>"
      ]
     },
     "execution_count": 5,
     "metadata": {},
     "output_type": "execute_result"
    },
    {
     "data": {
      "image/png": "[encoded data removed]",
      "text/plain": [
       "<matplotlib.figure.Figure at 0x1110b2490>"
      ]
     },
     "metadata": {},
     "output_type": "display_data"
    }
   ],
   "source": [
    "import matplotlib.pyplot as plt\n",
    "import scipy\n",
    "import scipy.misc\n",
    "%matplotlib inline\n",
    "import numpy as np\n",
    "%matplotlib inline\n",
    "plt.figure(figsize =(1,1))\n",
    "image = np.swapaxes(X_train[9].reshape(32, 32, 3, order='F'), 0,1)\n",
    "image = scipy.misc.imresize(image, (32,32)) \n",
    "plt.imshow(image)"
   ]
  },
  {
   "cell_type": "code",
   "execution_count": 6,
   "metadata": {
    "collapsed": false
   },
   "outputs": [
    {
     "data": {
      "text/plain": [
       "<matplotlib.image.AxesImage at 0x117fdc150>"
      ]
     },
     "execution_count": 6,
     "metadata": {},
     "output_type": "execute_result"
    },
    {
     "data": {
      "image/png": "[encoded data removed]",
      "text/plain": [
       "<matplotlib.figure.Figure at 0x110da1190>"
      ]
     },
     "metadata": {},
     "output_type": "display_data"
    }
   ],
   "source": [
    "image = np.swapaxes(X_train[9].reshape(32, 32, 3, order='F'), 0,1)\n",
    "image = scipy.misc.imresize(image, (8,8)) \n",
    "plt.imshow(image)"
   ]
  },
  {
   "cell_type": "code",
   "execution_count": 7,
   "metadata": {
    "collapsed": true
   },
   "outputs": [],
   "source": [
    "def leaky_relu_and_bn(X, bn_name, alpha=0.3):\n",
    "    X = tf.layers.batch_normalization(X, name=bn_name)\n",
    "    return tf.nn.relu(X) - alpha * tf.nn.relu(-X)"
   ]
  },
  {
   "cell_type": "code",
   "execution_count": 8,
   "metadata": {
    "collapsed": true
   },
   "outputs": [],
   "source": [
    "import tensorflow as tf\n",
    "tf.reset_default_graph()"
   ]
  },
  {
   "cell_type": "code",
   "execution_count": 9,
   "metadata": {
    "collapsed": true
   },
   "outputs": [],
   "source": [
    "# Discriminator\n",
    "# -----\n",
    "# Phase: 0 (initial)\n",
    "# Input: 3 x 4 x 4\n",
    "\n",
    "# Block: from_rgb_4\n",
    "# c1 (from_rbg): 128 x 4 x 4\n",
    "\n",
    "# Block: out\n",
    "# c3: 128 x 4 x 4\n",
    "# c4: 128 x 1 x 1\n",
    "# fc: 1 x 1 x 1\n",
    "\n",
    "# -----\n",
    "# Phase: 1 (add 1)\n",
    "# Input: 3 x 8 x 8\n",
    "\n",
    "# Block: from_rgb_8\n",
    "# c1 (from_rbg): 64 x 8 x 8\n",
    "\n",
    "# Block: added_8_to_4\n",
    "# c3: 64 x 8 x 8\n",
    "# c3: 128 x 8 x 8\n",
    "# dn: 128 x 4 x 4\n",
    "\n",
    "# Block: out\n",
    "# c3: 128 x 4 x 4\n",
    "# c4: 128 x 1 x 1\n",
    "# fc: 1 x 1 x 1\n",
    "\n",
    "# -----\n",
    "# Phase: 2 (add 2)\n",
    "# Input: 3 x 16 x 16\n",
    "\n",
    "# Block: from_rgb_16\n",
    "# c1 (from_rbg): 32 x 16 x 16\n",
    "\n",
    "# Block: added_16_to_8\n",
    "# c3: 32 x 16 x 16\n",
    "# c3: 64 x 16 x 16\n",
    "# dn: 64 x 8 x 8\n",
    "\n",
    "# Block: added_8_to_4\n",
    "# c3: 64 x 8 x 8\n",
    "# c3: 128 x 8 x 8\n",
    "# dn: 128 x 4 x 4\n",
    "\n",
    "# Block: out\n",
    "# c3: 128 x 4 x 4\n",
    "# c4: 128 x 1 x 1\n",
    "# fc: 1 x 1 x 1\n",
    "\n",
    "# -----\n",
    "# Phase: 3 (add 3)\n",
    "# Input: 3 x 32 x 32\n",
    "\n",
    "# Block: from_rgb_32\n",
    "# c1 (from_rbg): 16 x 32 x 32\n",
    "\n",
    "# Block: added_32_to_16\n",
    "# c3: 16 x 32 x 32\n",
    "# c3: 32 x 32 x 32\n",
    "# dn: 32 x 16 x 16\n",
    "\n",
    "# Block: added_16_to_8\n",
    "# c3: 32 x 16 x 16\n",
    "# c3: 64 x 16 x 16\n",
    "# dn: 64 x 8 x 8\n",
    "\n",
    "# Block: added_8_to_4\n",
    "# c3: 64 x 8 x 8\n",
    "# c3: 128 x 8 x 8\n",
    "# dn: 128 x 4 x 4\n",
    "\n",
    "# Block: out\n",
    "# c3: 128 x 4 x 4\n",
    "# c4: 128 x 1 x 1\n",
    "# fc: 1 x 1 x 1\n",
    "\n",
    "# ><><><><><><><><><><><><\n",
    "\n",
    "# Generator\n",
    "# ------\n",
    "# Phase: Initial\n",
    "# Input z: 128 x 1 x 1\n",
    "\n",
    "# Block: initial\n",
    "# c4: 128 x 4 x 4\n",
    "# c3: 128 x 4 x 4\n",
    "\n",
    "# Block: to_rgb_4\n",
    "# c1 (to_rgb): 3 x 4 x 4\n",
    "\n",
    "# ----\n",
    "# Phase: add 1\n",
    "# Input z: 128 x 1 x 1\n",
    "\n",
    "# Block: initial\n",
    "# c4: 128 x 4 x 4\n",
    "# c3: 128 x 4 x 4\n",
    "\n",
    "# Block: added_4_to_8\n",
    "# up: 128 x 8 x 8\n",
    "# c3: 64 x 8 x 8\n",
    "# c3: 64 x 8 x 8\n",
    "\n",
    "# Block: to_rgb_8\n",
    "# c1 (to_rgb): 3 x 8 x 8\n",
    "\n",
    "# -----\n",
    "# Phase: add 2\n",
    "# Input z: 128 x 1 x 1\n",
    "\n",
    "# Block: initial\n",
    "# c4: 128 x 4 x 4\n",
    "# c3: 128 x 4 x 4\n",
    "\n",
    "# Block: added_4_to_8\n",
    "# up: 128 x 8 x 8\n",
    "# c3: 64 x 8 x 8\n",
    "# c3: 64 x 8 x 8\n",
    "\n",
    "# Block: added_8_to_16\n",
    "# up: 64 x 16 x 16\n",
    "# c3: 32 x 16 x 16\n",
    "# c3: 32 x 16 x 16\n",
    "\n",
    "# Block: to_rgb_16\n",
    "# c1 (to_rgb): 3 x 16 x 16\n",
    "\n",
    "# ----\n",
    "# Phase: add 3\n",
    "# Input z: 128 x 1 x 1\n",
    "\n",
    "# Block: initial\n",
    "# c4: 128 x 4 x 4\n",
    "# c3: 128 x 4 x 4\n",
    "\n",
    "# Block: added_4_to_8\n",
    "# up: 128 x 8 x 8\n",
    "# c3: 64 x 8 x 8\n",
    "# c3: 64 x 8 x 8\n",
    "\n",
    "# Block: added_8_to_16\n",
    "# up: 64 x 16 x 16\n",
    "# c3: 32 x 16 x 16\n",
    "# c3: 32 x 16 x 16\n",
    "\n",
    "# Block: added_16_to_32\n",
    "# up: 32 x 32 x 32\n",
    "# c3: 16 x 32 x 32\n",
    "# c3: 16 x 32 x 32\n",
    "\n",
    "# Block: to_rgb_32\n",
    "# c1 (to_rgb): 3 x 32 x 32"
   ]
  },
  {
   "cell_type": "code",
   "execution_count": 10,
   "metadata": {
    "collapsed": true
   },
   "outputs": [],
   "source": [
    "# Config:\n",
    "batch_size = 32\n",
    "num_images_before_adding_block_constant = 1600000\n",
    "max_num_blocks_to_add = 3"
   ]
  },
  {
   "cell_type": "code",
   "execution_count": 11,
   "metadata": {
    "collapsed": true
   },
   "outputs": [],
   "source": [
    "def calculate_num_blocks_to_add_and_smoothing_coefficient(num_images_seen):\n",
    "    num_images_before_adding_block = tf.constant(num_images_before_adding_block_constant)\n",
    "    num_blocks_to_add = tf.cast(tf.floor(tf.divide(num_images_seen, num_images_before_adding_block)))\n",
    "    r = tf.subtract(num_images_seen, tf.multiply(num_blocks_to_add, num_images_before_adding_block))\n",
    "    \n",
    "    smoothing_coefficient = tf.cond(num_blocks_to_add >= tf.constant(max_num_blocks_to_add), lambda: tf.constant(1), lambda: tf.minimum(\n",
    "        tf.constant(1), tf.divide(r, tf.divide(num_images_before_adding_block, tf.constant(2)))))\n",
    "    num_blocks_to_add = tf.minimum(num_blocks_to_add, tf.constant(max_num_blocks_to_add))\n",
    "    \n",
    "    return [num_blocks_to_add, smoothing_coefficient]"
   ]
  },
  {
   "cell_type": "code",
   "execution_count": 12,
   "metadata": {
    "collapsed": true
   },
   "outputs": [],
   "source": [
    "def leaky_relu_and_bn(X, bn_name, alpha=0.3):\n",
    "    X = tf.layers.batch_normalization(X, name=bn_name)\n",
    "    return tf.nn.relu(X) - alpha * tf.nn.relu(-X)"
   ]
  },
  {
   "cell_type": "code",
   "execution_count": 13,
   "metadata": {
    "collapsed": true
   },
   "outputs": [],
   "source": [
    "# In: batch_size, resolution, resolution, 3\n",
    "# Out: batch_size, resolution, resolution, target_num_channels \n",
    "def from_rgb(X, resolution, target_num_channels, reuse=None):\n",
    "    with tf.variable_scope(\"from_rgb_\" + resolution):\n",
    "        if (reuse): #TODO: Need reuse?\n",
    "            tf.get_variable_scope().reuse_variables()\n",
    "        X_normalized = tf.layers.batch_normalization(X, name='bn0' + str(resolution))\n",
    "        w = tf.get_variable('w' + str(resolution), [1, 1, 3, target_num_channels], initializer=tf.truncated_normal_initializer(stddev=np.sqrt(2.0 / target_num_channels)))\n",
    "        b = tf.get_variable('b' + str(resolution), [target_num_channels], initializer = tf.truncated_normal_initializer(stddev=0.02))\n",
    "        conv = tf.nn.conv2d(X_normalized, w, [1,1,1,1], padding='SAME') + b\n",
    "        return leaky_relu_and_bn(conv, 'bn1' + str(resolution))"
   ]
  },
  {
   "cell_type": "code",
   "execution_count": 14,
   "metadata": {
    "collapsed": false
   },
   "outputs": [],
   "source": [
    "# In: batch_size, 4*2^phase, 4*2^phase, 3\n",
    "# Out: batch_size, 4*2^phase, 4*2^phase, 128/(2^phase)\n",
    "def from_rgb_for_phase(X, phase, reuse=None):\n",
    "    return tf.case([\n",
    "            (tf.equal(phase, tf.constant(0)), lambda: from_rgb(X, 4, 128, reuse)),\n",
    "            (tf.equal(phase, tf.constant(1)), lambda: from_rgb(X, 8, 64, reuse)),\n",
    "            (tf.equal(phase, tf.constant(2)), lambda: from_rgb(X, 16, 32, reuse)),\n",
    "            (tf.equal(phase, tf.constant(3)), lambda: from_rgb(X, 32, 16, reuse)),\n",
    "        ], default=lambda: tf.zeros((1,4,4,128)))"
   ]
  },
  {
   "cell_type": "code",
   "execution_count": 15,
   "metadata": {
    "collapsed": true
   },
   "outputs": [],
   "source": [
    "# In: batch_size, 4*2^phase, 4*2^phase, 3\n",
    "# Out: batch_size, 4*2^phase, 4*2^phase, 128/(2^phase) \n",
    "def from_rgb_possibly_smoothed(X, phase):\n",
    "    from_rgb = from_rgb_for_phase(X, phase)\n",
    "    if (smoothing_coefficient < 1):\n",
    "        half_resolution_X = tf.nn.avg_pool(X, [1, 2, 2, 1], [1, 1, 1, 1], padding='SAME')\n",
    "        prior_from_rgb = from_rgb_for_phase(half_resolution_X, phase - 1)\n",
    "        return (1 - smoothing_coefficient) * prior_from_rgb + smoothing_coefficient * from_rgb\n",
    "    else: \n",
    "        return from_rgb"
   ]
  },
  {
   "cell_type": "code",
   "execution_count": 16,
   "metadata": {
    "collapsed": true
   },
   "outputs": [],
   "source": [
    "# In: batch_size, input_resolution, input_resolution, input_num_channels\n",
    "# Out: batch_size, input_resolution / 2, input_resolution / 2, 2 * input_num_channels\n",
    "def added_discriminator_block(X, input_resolution, input_num_channels):\n",
    "    target_resolution = input_resolution / 2\n",
    "    target_num_channels = 2 * input_num_channels\n",
    "    with tf.variable_scope(\"added_block_\" + str(input_resolution) + \"_to_\" + str(target_resolution)):\n",
    "        w1 = tf.get_variable('w1', [3, 3, input_num_channels, input_num_channels], initializer=tf.truncated_normal_initializer(stddev=np.sqrt(2.0 / input_num_channels)))\n",
    "        b1 = tf.get_variable('b1', [input_num_channels], initializer = tf.truncated_normal_initializer(stddev=0.02))    \n",
    "        conv1 = tf.nn.conv2d(X, w1, [1,1,1,1], padding='SAME', name='conv1') + b1\n",
    "        a1 = leaky_relu_and_bn(conv1, 'bn1')\n",
    "\n",
    "        w2 = tf.get_variable('w2', [3, 3, input_num_channels, target_num_channels], initializer=tf.truncated_normal_initializer(stddev=np.sqrt(2.0 / input_num_channels)))\n",
    "        b2 = tf.get_variable('b2', [target_num_channels], initializer = tf.truncated_normal_initializer(stddev=0.02))    \n",
    "        conv2 = tf.nn.conv2d(a1, w2, [1,1,1,1], padding='SAME', name='conv2') + b2\n",
    "        a2 = leaky_relu_and_bn(conv_2, 'bn2')  \n",
    "\n",
    "        return tf.nn.avg_pool(a2, [1, 2, 2, 1], [1, 1, 1, 1], padding='SAME')"
   ]
  },
  {
   "cell_type": "code",
   "execution_count": 17,
   "metadata": {
    "collapsed": true
   },
   "outputs": [],
   "source": [
    "# In: batch_size, 4, 4, 128\n",
    "# Out: batch_size, 1, 1, 1\n",
    "def discriminator_output_block(X):\n",
    "    with tf.variable_scope(\"output_block\"):\n",
    "        w1 = tf.get_variable('w1', [3, 3, 128, 128], initializer=tf.truncated_normal_initializer(stddev=np.sqrt(2.0 / 128)))\n",
    "        b1 = tf.get_variable('b1', [128], initializer = tf.truncated_normal_initializer(stddev=0.02))    \n",
    "        conv1 = tf.nn.conv2d(X, w1, [1,1,1,1], padding='SAME') + b1\n",
    "        a1 = leaky_relu_and_bn(conv1, 'bn1')\n",
    "\n",
    "        w2 = tf.get_variable('w2', [4, 4, 128, 128], initializer=tf.truncated_normal_initializer(stddev=np.sqrt(2.0 / 128)))\n",
    "        b2 = tf.get_variable('b2', [128], initializer = tf.truncated_normal_initializer(stddev=0.02))    \n",
    "        conv2 = tf.nn.conv2d(a1, w2, [1,1,1,1], padding='VALID') + b2\n",
    "        a2 = leaky_relu_and_bn(conv2, 'bn2')\n",
    "        return tf.layers.dense(a2, 1)"
   ]
  },
  {
   "cell_type": "code",
   "execution_count": 18,
   "metadata": {
    "collapsed": true
   },
   "outputs": [],
   "source": [
    "# In: batch_size, 4*2^phase, 4*2^phase, 3\n",
    "# Out: batch_size, 1, 1, 1\n",
    "def discriminator(X, num_images_seen, reuse=False):\n",
    "    with tf.variable_scope(\"D\"):\n",
    "        if (reuse):\n",
    "            tf.get_variable_scope().reuse_variables()\n",
    "        num_blocks_to_add, smoothing_coefficient = calculate_num_blocks_to_add_and_smoothing_coefficient(num_images_seen)\n",
    "        phase = num_blocks_to_add\n",
    "        \n",
    "        X = from_rgb_possibly_smoothed(X, phase)\n",
    "        \n",
    "        X = tf.cond(phase >= 3, added_discriminator_block(32, 16), X)\n",
    "        X = tf.cond(phase >= 2, added_discriminator_block(16, 32), X)\n",
    "        X = tf.cond(phase >= 1, added_discriminator_block(8, 64), X)\n",
    "\n",
    "        return discriminator_output_block(X)"
   ]
  },
  {
   "cell_type": "code",
   "execution_count": 19,
   "metadata": {
    "collapsed": true
   },
   "outputs": [],
   "source": [
    "def generator(z, num_images_seen, batch_size, reuse=False):\n",
    "    with tf.variable_scope(\"G\"):\n",
    "        if (reuse):\n",
    "            tf.get_variable_scope().reuse_variables()\n",
    "        \n",
    "        num_blocks_to_add, smoothing_coefficient = calculate_num_blocks_to_add_and_smoothing_coefficient(num_images_seen)\n"
   ]
  },
  {
   "cell_type": "code",
   "execution_count": null,
   "metadata": {
    "collapsed": true
   },
   "outputs": [],
   "source": []
  }
 ],
 "metadata": {
  "anaconda-cloud": {},
  "kernelspec": {
   "display_name": "Python [default]",
   "language": "python",
   "name": "python2"
  },
  "language_info": {
   "codemirror_mode": {
    "name": "ipython",
    "version": 2
   },
   "file_extension": ".py",
   "mimetype": "text/x-python",
   "name": "python",
   "nbconvert_exporter": "python",
   "pygments_lexer": "ipython2",
   "version": "2.7.13"
  }
 },
 "nbformat": 4,
 "nbformat_minor": 2
}
