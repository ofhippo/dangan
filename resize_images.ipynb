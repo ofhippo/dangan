{
 "cells": [
  {
   "cell_type": "code",
   "execution_count": 1,
   "metadata": {
    "collapsed": true
   },
   "outputs": [],
   "source": [
    "import numpy as np\n",
    "import cPickle\n",
    "import matplotlib.pyplot as plt\n",
    "import scipy\n",
    "import scipy.misc"
   ]
  },
  {
   "cell_type": "code",
   "execution_count": 2,
   "metadata": {
    "collapsed": true
   },
   "outputs": [],
   "source": [
    "%matplotlib inline"
   ]
  },
  {
   "cell_type": "code",
   "execution_count": 3,
   "metadata": {
    "collapsed": true
   },
   "outputs": [],
   "source": [
    "def unpickle(file):\n",
    "    with open(file, 'rb') as fo:\n",
    "        dict = cPickle.load(fo)\n",
    "    return dict"
   ]
  },
  {
   "cell_type": "code",
   "execution_count": 4,
   "metadata": {
    "collapsed": false
   },
   "outputs": [
    {
     "data": {
      "text/plain": [
       "(60000, 3072)"
      ]
     },
     "execution_count": 4,
     "metadata": {},
     "output_type": "execute_result"
    }
   ],
   "source": [
    "data_file_folder = 'cifar-10-batches-py/'\n",
    "data_file_prefix = data_file_folder + 'data_batch_'\n",
    "files = [data_file_prefix + str(i + 1) for i in range(5)]\n",
    "files.append(data_file_folder + 'test_batch') #No test needed, so use for training\n",
    "X_train = np.concatenate([ unpickle(data_file)['data'] for data_file in files])\n",
    "X_train.shape # (60000, 32*32*3)"
   ]
  },
  {
   "cell_type": "code",
   "execution_count": 5,
   "metadata": {
    "collapsed": false
   },
   "outputs": [
    {
     "name": "stdout",
     "output_type": "stream",
     "text": [
      "resizing to 4\n",
      "batch 1 of 6\n",
      "batch 2 of 6\n",
      "batch 3 of 6\n",
      "batch 4 of 6\n",
      "batch 5 of 6\n",
      "batch 6 of 6\n",
      "resizing to 8\n",
      "batch 1 of 6\n",
      "batch 2 of 6\n",
      "batch 3 of 6\n",
      "batch 4 of 6\n",
      "batch 5 of 6\n",
      "batch 6 of 6\n",
      "resizing to 16\n",
      "batch 1 of 6\n",
      "batch 2 of 6\n",
      "batch 3 of 6\n",
      "batch 4 of 6\n",
      "batch 5 of 6\n",
      "batch 6 of 6\n",
      "resizing to 32\n",
      "batch 1 of 6\n",
      "batch 2 of 6\n",
      "batch 3 of 6\n",
      "batch 4 of 6\n",
      "batch 5 of 6\n",
      "batch 6 of 6\n"
     ]
    }
   ],
   "source": [
    "resized_folder = \"resized_cifar/\"\n",
    "! mkdir resized_cifar\n",
    "for res in [4, 8, 16, 32]:\n",
    "    print \"resizing to \" + str(res)\n",
    "    for batch in range(6):\n",
    "        resized = []\n",
    "        print(\"batch \" + str(batch+1) + \" of 6\")\n",
    "        for im in X_train[10000*batch:10000*(batch+1)]:\n",
    "            resized.append(scipy.misc.imrotate(scipy.misc.imresize(im.reshape([32, 32, 3], order='F'), (res, res, 3)), -90))\n",
    "        cPickle.dump({ 'data': np.array(resized )}, open(resized_folder + \"size_\" + str(res) + \"_batch_\" + str(batch), \"wb\" ) )"
   ]
  },
  {
   "cell_type": "code",
   "execution_count": 7,
   "metadata": {
    "collapsed": false
   },
   "outputs": [
    {
     "data": {
      "image/png": "[encoded data removed]",
      "text/plain": [
       "<matplotlib.figure.Figure at 0x1110f9710>"
      ]
     },
     "metadata": {},
     "output_type": "display_data"
    },
    {
     "data": {
      "image/png": "[encoded data removed]",
      "text/plain": [
       "<matplotlib.figure.Figure at 0x118db7550>"
      ]
     },
     "metadata": {},
     "output_type": "display_data"
    },
    {
     "data": {
      "image/png": "[encoded data removed]",
      "text/plain": [
       "<matplotlib.figure.Figure at 0x1101f9f50>"
      ]
     },
     "metadata": {},
     "output_type": "display_data"
    },
    {
     "data": {
      "image/png": "[encoded data removed]",
      "text/plain": [
       "<matplotlib.figure.Figure at 0x118fd5fd0>"
      ]
     },
     "metadata": {},
     "output_type": "display_data"
    }
   ],
   "source": [
    "for res in [4, 8, 16, 32]:\n",
    "    data = unpickle(resized_folder + \"size_\" + str(res) + \"_batch_0\")[\"data\"]\n",
    "    plt.imshow(data[9].reshape([res, res, 3], order='F'))\n",
    "    plt.show()"
   ]
  },
  {
   "cell_type": "code",
   "execution_count": null,
   "metadata": {
    "collapsed": true
   },
   "outputs": [],
   "source": []
  }
 ],
 "metadata": {
  "kernelspec": {
   "display_name": "Python [default]",
   "language": "python",
   "name": "python2"
  },
  "language_info": {
   "codemirror_mode": {
    "name": "ipython",
    "version": 2
   },
   "file_extension": ".py",
   "mimetype": "text/x-python",
   "name": "python",
   "nbconvert_exporter": "python",
   "pygments_lexer": "ipython2",
   "version": "2.7.13"
  }
 },
 "nbformat": 4,
 "nbformat_minor": 2
}
